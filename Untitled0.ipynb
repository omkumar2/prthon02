{
  "nbformat": 4,
  "nbformat_minor": 0,
  "metadata": {
    "colab": {
      "provenance": [],
      "toc_visible": true,
      "authorship_tag": "ABX9TyNssX2c/W2jwnsHmtZeDtrt",
      "include_colab_link": true
    },
    "kernelspec": {
      "name": "python3",
      "display_name": "Python 3"
    },
    "language_info": {
      "name": "python"
    }
  },
  "cells": [
    {
      "cell_type": "markdown",
      "metadata": {
        "id": "view-in-github",
        "colab_type": "text"
      },
      "source": [
        "<a href=\"https://colab.research.google.com/github/omkumar2/prthon02/blob/main/Untitled0.ipynb\" target=\"_parent\"><img src=\"https://colab.research.google.com/assets/colab-badge.svg\" alt=\"Open In Colab\"/></a>"
      ]
    },
    {
      "cell_type": "code",
      "execution_count": 1,
      "metadata": {
        "colab": {
          "base_uri": "https://localhost:8080/"
        },
        "id": "Io5IqqfjZEmv",
        "outputId": "08503c9e-9594-47ae-af68-f75c6027c345"
      },
      "outputs": [
        {
          "output_type": "stream",
          "name": "stdout",
          "text": [
            "3\n",
            "1\n",
            "2\n",
            "20\n",
            "Python string methods\n"
          ]
        }
      ],
      "source": [
        "x = \"Python String Methods\"\n",
        "print(x.count(\"t\")) #3\n",
        "print(x.count(\"s\")) #1\n",
        "print(x.index(\"t\")) #2\n",
        "print(x.index(\"s\")) #20\n",
        "x = x.replace(\"S\", \"s\")\n",
        "x = x.replace(\"M\", \"m\")\n",
        "print(x) #Python string methods\n"
      ]
    }
  ]
}